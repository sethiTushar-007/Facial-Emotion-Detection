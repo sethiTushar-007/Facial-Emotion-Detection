{
 "cells": [
  {
   "cell_type": "code",
   "execution_count": 1,
   "metadata": {},
   "outputs": [],
   "source": [
    "import numpy as np\n",
    "import tensorflow as tf\n",
    "from tensorflow.keras.preprocessing.image import ImageDataGenerator"
   ]
  },
  {
   "cell_type": "code",
   "execution_count": 2,
   "metadata": {},
   "outputs": [
    {
     "name": "stdout",
     "output_type": "stream",
     "text": [
      "Found 28709 images belonging to 7 classes.\n",
      "Found 7178 images belonging to 7 classes.\n"
     ]
    }
   ],
   "source": [
    "train_datagen = ImageDataGenerator(rescale=1./255)\n",
    "val_datagen = ImageDataGenerator(rescale=1./255)\n",
    "\n",
    "train_generator = train_datagen.flow_from_directory('./dataset/train',\n",
    "                                                    target_size=(48,48),\n",
    "                                                    batch_size=64,\n",
    "                                                    color_mode='grayscale',\n",
    "                                                    class_mode='categorical')\n",
    "\n",
    "validation_generator = val_datagen.flow_from_directory('./dataset/test',\n",
    "                                                      target_size=(48,48),\n",
    "                                                      batch_size=64,\n",
    "                                                      color_mode='grayscale',\n",
    "                                                      class_mode='categorical')"
   ]
  },
  {
   "cell_type": "code",
   "execution_count": 3,
   "metadata": {},
   "outputs": [],
   "source": [
    "model = tf.keras.models.Sequential()\n",
    "\n",
    "model.add(tf.keras.layers.Conv2D(32, kernel_size=(3,3), activation='relu', input_shape=(48,48,1)))\n",
    "model.add(tf.keras.layers.Conv2D(64, kernel_size=(3,3), activation='relu'))\n",
    "model.add(tf.keras.layers.MaxPool2D(pool_size=(2,2)))\n",
    "model.add(tf.keras.layers.Dropout(0.25))\n",
    "\n",
    "model.add(tf.keras.layers.Conv2D(128, kernel_size=(3,3), activation='relu'))\n",
    "model.add(tf.keras.layers.MaxPool2D(pool_size=(2,2)))\n",
    "model.add(tf.keras.layers.Conv2D(128, kernel_size=(3,3), activation='relu'))\n",
    "model.add(tf.keras.layers.MaxPool2D(pool_size=(2,2)))\n",
    "model.add(tf.keras.layers.Dropout(0.25))\n",
    "\n",
    "model.add(tf.keras.layers.Flatten())\n",
    "model.add(tf.keras.layers.Dense(units=1024, activation='relu'))\n",
    "model.add(tf.keras.layers.Dropout(0.5))\n",
    "model.add(tf.keras.layers.Dense(units=7, activation='softmax'))"
   ]
  },
  {
   "cell_type": "code",
   "execution_count": 4,
   "metadata": {},
   "outputs": [],
   "source": [
    "model.compile(optimizer='adam', loss='categorical_crossentropy', metrics=['accuracy'])"
   ]
  },
  {
   "cell_type": "code",
   "execution_count": 5,
   "metadata": {},
   "outputs": [
    {
     "name": "stdout",
     "output_type": "stream",
     "text": [
      "WARNING:tensorflow:From <ipython-input-5-34506df7a5bc>:5: Model.fit_generator (from tensorflow.python.keras.engine.training) is deprecated and will be removed in a future version.\n",
      "Instructions for updating:\n",
      "Please use Model.fit, which supports generators.\n",
      "WARNING:tensorflow:sample_weight modes were coerced from\n",
      "  ...\n",
      "    to  \n",
      "  ['...']\n",
      "WARNING:tensorflow:sample_weight modes were coerced from\n",
      "  ...\n",
      "    to  \n",
      "  ['...']\n",
      "Train for 448 steps, validate for 112 steps\n",
      "Epoch 1/30\n",
      "448/448 [==============================] - 184s 411ms/step - loss: 1.7446 - accuracy: 0.2865 - val_loss: 1.5627 - val_accuracy: 0.3792\n",
      "Epoch 2/30\n",
      "448/448 [==============================] - 199s 445ms/step - loss: 1.4358 - accuracy: 0.4435 - val_loss: 1.3571 - val_accuracy: 0.4693\n",
      "Epoch 3/30\n",
      "448/448 [==============================] - 197s 439ms/step - loss: 1.2859 - accuracy: 0.5082 - val_loss: 1.2153 - val_accuracy: 0.5280\n",
      "Epoch 4/30\n",
      "448/448 [==============================] - 202s 450ms/step - loss: 1.2052 - accuracy: 0.5402 - val_loss: 1.1653 - val_accuracy: 0.5532\n",
      "Epoch 5/30\n",
      "448/448 [==============================] - 200s 447ms/step - loss: 1.1542 - accuracy: 0.5641 - val_loss: 1.1319 - val_accuracy: 0.5636\n",
      "Epoch 6/30\n",
      "448/448 [==============================] - 200s 445ms/step - loss: 1.1108 - accuracy: 0.5798 - val_loss: 1.0913 - val_accuracy: 0.5781\n",
      "Epoch 7/30\n",
      "448/448 [==============================] - 209s 467ms/step - loss: 1.0608 - accuracy: 0.6001 - val_loss: 1.1027 - val_accuracy: 0.5837\n",
      "Epoch 8/30\n",
      "448/448 [==============================] - 203s 454ms/step - loss: 1.0301 - accuracy: 0.6096 - val_loss: 1.0803 - val_accuracy: 0.5928\n",
      "Epoch 9/30\n",
      "448/448 [==============================] - 211s 470ms/step - loss: 0.9943 - accuracy: 0.6267 - val_loss: 1.0587 - val_accuracy: 0.6018\n",
      "Epoch 10/30\n",
      "448/448 [==============================] - 197s 439ms/step - loss: 0.9603 - accuracy: 0.6387 - val_loss: 1.0639 - val_accuracy: 0.6020\n",
      "Epoch 11/30\n",
      "448/448 [==============================] - 197s 440ms/step - loss: 0.9231 - accuracy: 0.6544 - val_loss: 1.0494 - val_accuracy: 0.6101\n",
      "Epoch 12/30\n",
      "448/448 [==============================] - 196s 438ms/step - loss: 0.8871 - accuracy: 0.6654 - val_loss: 1.0461 - val_accuracy: 0.6088\n",
      "Epoch 13/30\n",
      "448/448 [==============================] - 193s 431ms/step - loss: 0.8657 - accuracy: 0.6750 - val_loss: 1.0508 - val_accuracy: 0.6090\n",
      "Epoch 14/30\n",
      "448/448 [==============================] - 200s 445ms/step - loss: 0.8321 - accuracy: 0.6869 - val_loss: 1.0411 - val_accuracy: 0.6168\n",
      "Epoch 15/30\n",
      "448/448 [==============================] - 214s 477ms/step - loss: 0.8041 - accuracy: 0.6976 - val_loss: 1.0566 - val_accuracy: 0.6211\n",
      "Epoch 16/30\n",
      "448/448 [==============================] - 206s 460ms/step - loss: 0.7735 - accuracy: 0.7076 - val_loss: 1.0797 - val_accuracy: 0.6141\n",
      "Epoch 17/30\n",
      "448/448 [==============================] - 207s 462ms/step - loss: 0.7440 - accuracy: 0.7215 - val_loss: 1.0562 - val_accuracy: 0.6215\n",
      "Epoch 18/30\n",
      "448/448 [==============================] - 226s 504ms/step - loss: 0.7289 - accuracy: 0.7279 - val_loss: 1.0700 - val_accuracy: 0.6204\n",
      "Epoch 19/30\n",
      "448/448 [==============================] - 219s 488ms/step - loss: 0.7137 - accuracy: 0.7391 - val_loss: 1.0745 - val_accuracy: 0.6240\n",
      "Epoch 20/30\n",
      "448/448 [==============================] - 221s 493ms/step - loss: 0.6850 - accuracy: 0.7454 - val_loss: 1.0929 - val_accuracy: 0.6157\n",
      "Epoch 21/30\n",
      "448/448 [==============================] - 215s 479ms/step - loss: 0.6663 - accuracy: 0.7531 - val_loss: 1.1037 - val_accuracy: 0.6288\n",
      "Epoch 22/30\n",
      "448/448 [==============================] - 215s 479ms/step - loss: 0.6626 - accuracy: 0.7527 - val_loss: 1.1002 - val_accuracy: 0.6183\n",
      "Epoch 23/30\n",
      "448/448 [==============================] - 202s 452ms/step - loss: 0.6349 - accuracy: 0.7661 - val_loss: 1.1024 - val_accuracy: 0.6212\n",
      "Epoch 24/30\n",
      "448/448 [==============================] - 203s 453ms/step - loss: 0.6161 - accuracy: 0.7723 - val_loss: 1.1183 - val_accuracy: 0.6226\n",
      "Epoch 25/30\n",
      "448/448 [==============================] - 203s 453ms/step - loss: 0.6107 - accuracy: 0.7725 - val_loss: 1.1058 - val_accuracy: 0.6290\n",
      "Epoch 26/30\n",
      "448/448 [==============================] - 204s 455ms/step - loss: 0.5939 - accuracy: 0.7819 - val_loss: 1.1094 - val_accuracy: 0.6190\n",
      "Epoch 27/30\n",
      "448/448 [==============================] - 196s 437ms/step - loss: 0.5770 - accuracy: 0.7857 - val_loss: 1.1266 - val_accuracy: 0.6310\n",
      "Epoch 28/30\n",
      "448/448 [==============================] - 214s 477ms/step - loss: 0.5613 - accuracy: 0.7938 - val_loss: 1.1588 - val_accuracy: 0.6268\n",
      "Epoch 29/30\n",
      "448/448 [==============================] - 206s 459ms/step - loss: 0.5526 - accuracy: 0.7964 - val_loss: 1.1617 - val_accuracy: 0.6237\n",
      "Epoch 30/30\n",
      "448/448 [==============================] - 244s 544ms/step - loss: 0.5433 - accuracy: 0.7999 - val_loss: 1.1721 - val_accuracy: 0.6257\n"
     ]
    },
    {
     "data": {
      "text/plain": [
       "<tensorflow.python.keras.callbacks.History at 0x171176e38c8>"
      ]
     },
     "execution_count": 5,
     "metadata": {},
     "output_type": "execute_result"
    }
   ],
   "source": [
    "model.fit_generator(train_generator,\n",
    "                   steps_per_epoch=28709//64,\n",
    "                   epochs=30,\n",
    "                   validation_data = validation_generator,\n",
    "                   validation_steps=7178//64)"
   ]
  },
  {
   "cell_type": "code",
   "execution_count": 6,
   "metadata": {},
   "outputs": [],
   "source": [
    "model.save('model.h5')"
   ]
  },
  {
   "cell_type": "code",
   "execution_count": 7,
   "metadata": {},
   "outputs": [
    {
     "data": {
      "text/plain": [
       "{'angry': 0,\n",
       " 'disgust': 1,\n",
       " 'fear': 2,\n",
       " 'happy': 3,\n",
       " 'neutral': 4,\n",
       " 'sad': 5,\n",
       " 'surprise': 6}"
      ]
     },
     "execution_count": 7,
     "metadata": {},
     "output_type": "execute_result"
    }
   ],
   "source": [
    "train_generator.class_indices"
   ]
  },
  {
   "cell_type": "code",
   "execution_count": 12,
   "metadata": {},
   "outputs": [],
   "source": [
    "from tensorflow.keras.models import load_model\n",
    "from keras.preprocessing import image\n",
    "import numpy as np\n",
    "model = load_model('model.h5')\n",
    "result = {0:'angry',\n",
    " 1:'disgust',\n",
    " 2:'fear',\n",
    " 3:'happy',\n",
    " 4:'neutral',\n",
    " 5:'sad',\n",
    " 6:'surprise'}"
   ]
  },
  {
   "cell_type": "code",
   "execution_count": 23,
   "metadata": {},
   "outputs": [],
   "source": [
    "test_image = './dataset/test_data/happy.jpg'"
   ]
  },
  {
   "cell_type": "code",
   "execution_count": 24,
   "metadata": {},
   "outputs": [],
   "source": [
    "img = image.load_img(test_image, target_size=(48,48))\n",
    "img = img.convert('L')\n",
    "x = image.img_to_array(img)\n",
    "x /= 255\n",
    "x = x.reshape(1, 48, 48, 1)"
   ]
  },
  {
   "cell_type": "code",
   "execution_count": 25,
   "metadata": {},
   "outputs": [
    {
     "name": "stdout",
     "output_type": "stream",
     "text": [
      "[[8.4758598e-01 1.1628515e-12 2.5089108e-03 4.8195983e-05 1.4401911e-01\n",
      "  5.8035548e-03 3.4268760e-05]]\n"
     ]
    }
   ],
   "source": [
    "predict = model.predict(x)\n",
    "print(predict)"
   ]
  },
  {
   "cell_type": "code",
   "execution_count": 26,
   "metadata": {},
   "outputs": [],
   "source": [
    "final_prediction = result[np.argmax(predict[0])]"
   ]
  },
  {
   "cell_type": "code",
   "execution_count": 27,
   "metadata": {},
   "outputs": [
    {
     "name": "stdout",
     "output_type": "stream",
     "text": [
      "angry\n"
     ]
    }
   ],
   "source": [
    "print(final_prediction)"
   ]
  },
  {
   "cell_type": "code",
   "execution_count": null,
   "metadata": {},
   "outputs": [],
   "source": []
  }
 ],
 "metadata": {
  "kernelspec": {
   "display_name": "Python 3",
   "language": "python",
   "name": "python3"
  },
  "language_info": {
   "codemirror_mode": {
    "name": "ipython",
    "version": 3
   },
   "file_extension": ".py",
   "mimetype": "text/x-python",
   "name": "python",
   "nbconvert_exporter": "python",
   "pygments_lexer": "ipython3",
   "version": "3.8.3"
  }
 },
 "nbformat": 4,
 "nbformat_minor": 2
}
